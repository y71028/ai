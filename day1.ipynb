{
  "nbformat": 4,
  "nbformat_minor": 0,
  "metadata": {
    "colab": {
      "name": "day1.ipynb",
      "provenance": [],
      "collapsed_sections": [],
      "authorship_tag": "ABX9TyPblUD0gddfS/9AD+SYXw60",
      "include_colab_link": true
    },
    "kernelspec": {
      "name": "python3",
      "display_name": "Python 3"
    },
    "language_info": {
      "name": "python"
    }
  },
  "cells": [
    {
      "cell_type": "markdown",
      "metadata": {
        "id": "view-in-github",
        "colab_type": "text"
      },
      "source": [
        "<a href=\"https://colab.research.google.com/github/y71028/ai/blob/main/day1.ipynb\" target=\"_parent\"><img src=\"https://colab.research.google.com/assets/colab-badge.svg\" alt=\"Open In Colab\"/></a>"
      ]
    },
    {
      "cell_type": "code",
      "execution_count": 20,
      "metadata": {
        "colab": {
          "base_uri": "https://localhost:8080/"
        },
        "id": "lGWzEfXf4NhW",
        "outputId": "19ce2d96-5a27-4f4d-89b4-b9c192811b22"
      },
      "outputs": [
        {
          "output_type": "stream",
          "name": "stdout",
          "text": [
            "내년에는 26 입니다. \n",
            "이윤서 is 26 years old.\n",
            "할부 개월 입력:10\n",
            "10 동안 매달 내는 금액은 5000.0 입니다.\n",
            "10동안 매달 내는 금액은 5000.0 입니다.\n",
            "10동안 매달 내는 금액은 5000.0입니다.\n",
            "10 동안 매달 내는 금액은 5000.0 입니다.\n"
          ]
        }
      ],
      "source": [
        "age=25\n",
        "print(f'내년에는 {age+1} 입니다. ')\n",
        "\n",
        "#f-strings\n",
        "\n",
        "who= '이윤서'\n",
        "age= '26'\n",
        "print(f'{who} is {age} years old.')\n",
        "\n",
        "\n",
        "months = int(input('할부 개월 입력:'))\n",
        "sum = 50000\n",
        "monthly = sum/months\n",
        "\n",
        "#기본\n",
        "print(months, '동안 매달 내는 금액은',monthly , '입니다.')\n",
        "\n",
        "#f-strings\n",
        "print(f'{months}동안 매달 내는 금액은 {monthly} 입니다.')\n",
        "\n",
        "#format()\n",
        "print('{}동안 매달 내는 금액은 {}입니다.'.format(months, monthly))\n",
        "\n",
        "# %연산자\n",
        "print('%d 동안 매달 내는 금액은 %s 입니다.' %(months, monthly))\n",
        "\n",
        "\n",
        "\n",
        "\n",
        "\n"
      ]
    }
  ]
}